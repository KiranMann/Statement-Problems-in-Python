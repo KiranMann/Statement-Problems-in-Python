{
 "cells": [
  {
   "cell_type": "code",
   "execution_count": 1,
   "id": "460d364e",
   "metadata": {},
   "outputs": [],
   "source": [
    "#Use a List Comprehension to create a list of all numbers between 1 and 50 that are divisible by 3 or 5.\n",
    "\n",
    "myList = [x for x in range(0,50) if x%3 == 0 or x%5 ==0]\n"
   ]
  },
  {
   "cell_type": "code",
   "execution_count": 2,
   "id": "b6052df5",
   "metadata": {},
   "outputs": [
    {
     "data": {
      "text/plain": [
       "[0,\n",
       " 3,\n",
       " 5,\n",
       " 6,\n",
       " 9,\n",
       " 10,\n",
       " 12,\n",
       " 15,\n",
       " 18,\n",
       " 20,\n",
       " 21,\n",
       " 24,\n",
       " 25,\n",
       " 27,\n",
       " 30,\n",
       " 33,\n",
       " 35,\n",
       " 36,\n",
       " 39,\n",
       " 40,\n",
       " 42,\n",
       " 45,\n",
       " 48]"
      ]
     },
     "execution_count": 2,
     "metadata": {},
     "output_type": "execute_result"
    }
   ],
   "source": [
    "myList\n"
   ]
  },
  {
   "cell_type": "code",
   "execution_count": 16,
   "id": "bfc4c050",
   "metadata": {},
   "outputs": [],
   "source": [
    "celcius = [0,10,20,30,35.5]\n",
    "fahrenheit = [(((9/5) * temp)+32) for temp in celcius]\n"
   ]
  },
  {
   "cell_type": "code",
   "execution_count": 17,
   "id": "fa4e70c5",
   "metadata": {},
   "outputs": [
    {
     "data": {
      "text/plain": [
       "[32.0, 50.0, 68.0, 86.0, 95.9]"
      ]
     },
     "execution_count": 17,
     "metadata": {},
     "output_type": "execute_result"
    }
   ],
   "source": [
    "fahrenheit\n",
    "    "
   ]
  },
  {
   "cell_type": "code",
   "execution_count": 22,
   "id": "48accd5e",
   "metadata": {},
   "outputs": [
    {
     "data": {
      "text/plain": [
       "[200, 400, 600, 400, 800, 1200, 600, 1200, 1800]"
      ]
     },
     "execution_count": 22,
     "metadata": {},
     "output_type": "execute_result"
    }
   ],
   "source": [
    "mylist = []\n",
    "for x in [2,4,6]:\n",
    "    for y in [100, 200, 300]:\n",
    "        mylist.append(x*y)\n",
    "mylist"
   ]
  },
  {
   "cell_type": "code",
   "execution_count": 25,
   "id": "3fd60476",
   "metadata": {},
   "outputs": [
    {
     "data": {
      "text/plain": [
       "[2, 20, 200, 4, 40, 400, 6, 60, 600]"
      ]
     },
     "execution_count": 25,
     "metadata": {},
     "output_type": "execute_result"
    }
   ],
   "source": [
    "mylist = [x*y for x in [2,4,6] for y in [1,10,100]]\n",
    "mylist\n"
   ]
  },
  {
   "cell_type": "code",
   "execution_count": 35,
   "id": "12504be7",
   "metadata": {},
   "outputs": [
    {
     "name": "stdout",
     "output_type": "stream",
     "text": [
      "starts\n",
      "s\n",
      "sentence\n"
     ]
    }
   ],
   "source": [
    "st = 'Print only the words that starts with s in this sentence'\n",
    "\n",
    "mylist = st.split()\n",
    "for letter in mylist:\n",
    "    if letter[0] == 's' or letter[0] == 'S':\n",
    "        print(letter)"
   ]
  },
  {
   "cell_type": "code",
   "execution_count": 49,
   "id": "188304d7",
   "metadata": {},
   "outputs": [
    {
     "name": "stdout",
     "output_type": "stream",
     "text": [
      "0\n",
      "2\n",
      "4\n",
      "6\n",
      "8\n",
      "10\n"
     ]
    }
   ],
   "source": [
    "for num in range(0,11):\n",
    "    if num %2 == 0:\n",
    "        print(f\"{num}\")"
   ]
  },
  {
   "cell_type": "code",
   "execution_count": 33,
   "id": "fc6e657a",
   "metadata": {
    "scrolled": true
   },
   "outputs": [
    {
     "data": {
      "text/plain": [
       "[3, 6, 9, 12, 15, 18, 21, 24, 27, 30, 33, 36, 39, 42, 45, 48]"
      ]
     },
     "execution_count": 33,
     "metadata": {},
     "output_type": "execute_result"
    }
   ],
   "source": [
    "mylist = [num for num in range(1,50) if num %3 == 0]\n",
    "mylist"
   ]
  },
  {
   "cell_type": "code",
   "execution_count": 47,
   "id": "d6aefd0e",
   "metadata": {},
   "outputs": [
    {
     "name": "stdout",
     "output_type": "stream",
     "text": [
      "word\n",
      "in\n",
      "this\n",
      "sentence\n",
      "that\n",
      "an\n",
      "even\n",
      "number\n",
      "of\n"
     ]
    }
   ],
   "source": [
    "st = 'Print every word in this sentence that has an even number of letters'\n",
    "mystring = st.split()\n",
    "for letter in mystring:\n",
    "    if len(letter) % 2 == 0:\n",
    "        print(letter)"
   ]
  },
  {
   "cell_type": "code",
   "execution_count": 41,
   "id": "b3c052e2",
   "metadata": {},
   "outputs": [
    {
     "name": "stdout",
     "output_type": "stream",
     "text": [
      "1\n",
      "2\n",
      "Fizz\n",
      "4\n",
      "Buzz\n",
      "Fizz\n",
      "7\n",
      "8\n",
      "Fizz\n",
      "Buzz\n",
      "11\n",
      "Fizz\n",
      "13\n",
      "14\n",
      "FizzBuzz\n",
      "16\n",
      "17\n",
      "Fizz\n",
      "19\n",
      "Buzz\n",
      "Fizz\n",
      "22\n",
      "23\n",
      "Fizz\n",
      "Buzz\n",
      "26\n",
      "Fizz\n",
      "28\n",
      "29\n",
      "FizzBuzz\n",
      "31\n",
      "32\n",
      "Fizz\n",
      "34\n",
      "Buzz\n",
      "Fizz\n",
      "37\n",
      "38\n",
      "Fizz\n",
      "Buzz\n",
      "41\n",
      "Fizz\n",
      "43\n",
      "44\n",
      "FizzBuzz\n",
      "46\n",
      "47\n",
      "Fizz\n",
      "49\n",
      "Buzz\n",
      "Fizz\n",
      "52\n",
      "53\n",
      "Fizz\n",
      "Buzz\n",
      "56\n",
      "Fizz\n",
      "58\n",
      "59\n",
      "FizzBuzz\n",
      "61\n",
      "62\n",
      "Fizz\n",
      "64\n",
      "Buzz\n",
      "Fizz\n",
      "67\n",
      "68\n",
      "Fizz\n",
      "Buzz\n",
      "71\n",
      "Fizz\n",
      "73\n",
      "74\n",
      "FizzBuzz\n",
      "76\n",
      "77\n",
      "Fizz\n",
      "79\n",
      "Buzz\n",
      "Fizz\n",
      "82\n",
      "83\n",
      "Fizz\n",
      "Buzz\n",
      "86\n",
      "Fizz\n",
      "88\n",
      "89\n",
      "FizzBuzz\n",
      "91\n",
      "92\n",
      "Fizz\n",
      "94\n",
      "Buzz\n",
      "Fizz\n",
      "97\n",
      "98\n",
      "Fizz\n",
      "Buzz\n"
     ]
    }
   ],
   "source": [
    "for num in range(1,101):\n",
    "    if num%3 == 0 and num % 5 ==0:\n",
    "        print(\"FizzBuzz\")\n",
    "    elif num % 5 ==0:\n",
    "        print(\"Buzz\")\n",
    "    elif num %3 == 0:\n",
    "        print(\"Fizz\")\n",
    "    else:\n",
    "        print(f\"{num}\")"
   ]
  },
  {
   "cell_type": "code",
   "execution_count": 63,
   "id": "22ed8a58",
   "metadata": {},
   "outputs": [
    {
     "name": "stdout",
     "output_type": "stream",
     "text": [
      "['C', 'a', 'l', 'o', 't', 'f', 'l', 'o', 'e', 'w', 'i', 't', 's']\n"
     ]
    }
   ],
   "source": [
    "st = 'Create a list of the first letters of every word in this string'\n",
    "firstletter = []\n",
    "for letter in st.split():\n",
    "    firstletter.append(letter[0])\n",
    "print(firstletter)"
   ]
  },
  {
   "cell_type": "code",
   "execution_count": 50,
   "id": "a48e6f58",
   "metadata": {},
   "outputs": [
    {
     "data": {
      "text/plain": [
       "[3, 6, 9, 12, 15, 18, 21, 24, 27, 30, 33, 36, 39, 42, 45, 48]"
      ]
     },
     "execution_count": 50,
     "metadata": {},
     "output_type": "execute_result"
    }
   ],
   "source": [
    "mylist= [num for num in range(1,50) if num % 3 ==0]\n",
    "mylist"
   ]
  },
  {
   "cell_type": "code",
   "execution_count": 52,
   "id": "0770615e",
   "metadata": {},
   "outputs": [
    {
     "data": {
      "text/plain": [
       "['C', 'a', 'l', 'o', 't', 'f', 'l', 'o', 'e', 'w', 'i', 't', 's']"
      ]
     },
     "execution_count": 52,
     "metadata": {},
     "output_type": "execute_result"
    }
   ],
   "source": [
    "st = 'Create a list of the first letters of every word in this string'\n",
    "list = [word[0] for word in st.split()]\n",
    "list\n"
   ]
  },
  {
   "cell_type": "code",
   "execution_count": 81,
   "id": "d55d0d05",
   "metadata": {},
   "outputs": [
    {
     "data": {
      "text/plain": [
       "[12, 58, 42, 86]"
      ]
     },
     "execution_count": 81,
     "metadata": {},
     "output_type": "execute_result"
    }
   ],
   "source": [
    "def even_num_list(num_list):\n",
    "    list =[]\n",
    "    for num in num_list:\n",
    "        if num % 2 ==0:\n",
    "            list.append(num) \n",
    "        else:\n",
    "            pass\n",
    "    return list\n",
    "                  \n",
    "even_num_list([12,45,58,65,42,86])\n"
   ]
  },
  {
   "cell_type": "markdown",
   "id": "9ba73d13",
   "metadata": {},
   "source": [
    "Use a List Comprehension to create a list of all numbers between 1 and 50 that are divisible by 3."
   ]
  },
  {
   "cell_type": "code",
   "execution_count": 5,
   "id": "2807b0cc",
   "metadata": {},
   "outputs": [
    {
     "data": {
      "text/plain": [
       "[3, 6, 9, 12, 15, 18, 21, 24, 27, 30, 33, 36, 39, 42, 45, 48]"
      ]
     },
     "execution_count": 5,
     "metadata": {},
     "output_type": "execute_result"
    }
   ],
   "source": [
    "mylist= [num for num in range(1,50) if num%3==0]\n",
    "mylist"
   ]
  },
  {
   "cell_type": "markdown",
   "id": "73dc8c62",
   "metadata": {},
   "source": [
    "Go through the string below and if the length of a word is even print \"even!\"\n",
    "st = 'Print every word in this sentence that has an even number of letters'"
   ]
  },
  {
   "cell_type": "code",
   "execution_count": 16,
   "id": "b8ea21f7",
   "metadata": {},
   "outputs": [
    {
     "name": "stdout",
     "output_type": "stream",
     "text": [
      "Print\n",
      "every\n",
      "even!\n",
      "even!\n",
      "even!\n",
      "even!\n",
      "even!\n",
      "has\n",
      "even!\n",
      "even!\n",
      "even!\n",
      "even!\n",
      "letters\n"
     ]
    }
   ],
   "source": [
    "st = 'Print every word in this sentence that has an even number of letters'\n",
    "mylist=st.split()\n",
    "for word in mylist:\n",
    "    if int(len(word))%2==0:\n",
    "        print(\"even!\")\n",
    "    else:\n",
    "        print(f\"{word}\")"
   ]
  },
  {
   "cell_type": "markdown",
   "id": "aa14b4a7",
   "metadata": {},
   "source": [
    "Write a program that prints the integers from 1 to 100. But for multiples of three print \"Fizz\" instead of the number, and for the multiples of five print \"Buzz\". For numbers which are multiples of both three and five print \"FizzBuzz\"."
   ]
  },
  {
   "cell_type": "code",
   "execution_count": 17,
   "id": "d0c70db3",
   "metadata": {},
   "outputs": [
    {
     "name": "stdout",
     "output_type": "stream",
     "text": [
      "1\n",
      "2\n",
      "Fizz\n",
      "4\n",
      "Buzz\n",
      "Fizz\n",
      "7\n",
      "8\n",
      "Fizz\n",
      "Buzz\n",
      "11\n",
      "Fizz\n",
      "13\n",
      "14\n",
      "FizzBuzz\n",
      "16\n",
      "17\n",
      "Fizz\n",
      "19\n",
      "Buzz\n",
      "Fizz\n",
      "22\n",
      "23\n",
      "Fizz\n",
      "Buzz\n",
      "26\n",
      "Fizz\n",
      "28\n",
      "29\n",
      "FizzBuzz\n",
      "31\n",
      "32\n",
      "Fizz\n",
      "34\n",
      "Buzz\n",
      "Fizz\n",
      "37\n",
      "38\n",
      "Fizz\n",
      "Buzz\n",
      "41\n",
      "Fizz\n",
      "43\n",
      "44\n",
      "FizzBuzz\n",
      "46\n",
      "47\n",
      "Fizz\n",
      "49\n",
      "Buzz\n",
      "Fizz\n",
      "52\n",
      "53\n",
      "Fizz\n",
      "Buzz\n",
      "56\n",
      "Fizz\n",
      "58\n",
      "59\n",
      "FizzBuzz\n",
      "61\n",
      "62\n",
      "Fizz\n",
      "64\n",
      "Buzz\n",
      "Fizz\n",
      "67\n",
      "68\n",
      "Fizz\n",
      "Buzz\n",
      "71\n",
      "Fizz\n",
      "73\n",
      "74\n",
      "FizzBuzz\n",
      "76\n",
      "77\n",
      "Fizz\n",
      "79\n",
      "Buzz\n",
      "Fizz\n",
      "82\n",
      "83\n",
      "Fizz\n",
      "Buzz\n",
      "86\n",
      "Fizz\n",
      "88\n",
      "89\n",
      "FizzBuzz\n",
      "91\n",
      "92\n",
      "Fizz\n",
      "94\n",
      "Buzz\n",
      "Fizz\n",
      "97\n",
      "98\n",
      "Fizz\n",
      "Buzz\n"
     ]
    }
   ],
   "source": [
    "for num in range(1,101):\n",
    "    if num%3==0 and num%5==0:\n",
    "        print(\"FizzBuzz\")\n",
    "    elif num%3==0:\n",
    "        print(\"Fizz\")\n",
    "    elif num%5==0:\n",
    "        print(\"Buzz\")\n",
    "    else:\n",
    "        print(num)"
   ]
  },
  {
   "cell_type": "markdown",
   "id": "608f1437",
   "metadata": {},
   "source": [
    "Use List Comprehension to create a list of the first letters of every word in the string below:\n",
    "st = 'Create a list of the first letters of every word in this string'"
   ]
  },
  {
   "cell_type": "code",
   "execution_count": 23,
   "id": "6fcfb0a2",
   "metadata": {},
   "outputs": [
    {
     "data": {
      "text/plain": [
       "['C', 'a', 'l', 'o', 't', 'f', 'l', 'o', 'e', 'w', 'i', 't', 's']"
      ]
     },
     "execution_count": 23,
     "metadata": {},
     "output_type": "execute_result"
    }
   ],
   "source": [
    "st = 'Create a list of the first letters of every word in this string'\n",
    "\n",
    "mylist=[x[0] for x in st.split()]\n",
    "mylist"
   ]
  },
  {
   "cell_type": "markdown",
   "id": "ef0ee39e",
   "metadata": {},
   "source": [
    "GUESSING GAME CHALLENGE:"
   ]
  },
  {
   "cell_type": "markdown",
   "id": "ced2bcc9",
   "metadata": {},
   "source": [
    "First, pick a random integer from 1 to 100 using the random module and assign it to a variable\n",
    "Note: random.randint(a,b) returns a random integer in range [a, b], including both end points."
   ]
  },
  {
   "cell_type": "code",
   "execution_count": 29,
   "id": "880da132",
   "metadata": {},
   "outputs": [
    {
     "data": {
      "text/plain": [
       "30"
      ]
     },
     "execution_count": 29,
     "metadata": {},
     "output_type": "execute_result"
    }
   ],
   "source": [
    "import random\n",
    "from random import randint\n",
    "myvariable=random.randint(1,100)\n",
    "myvariable\n",
    "    "
   ]
  },
  {
   "cell_type": "code",
   "execution_count": 1,
   "id": "c00f65d8",
   "metadata": {},
   "outputs": [
    {
     "name": "stdout",
     "output_type": "stream",
     "text": [
      "0\n",
      "2\n",
      "4\n",
      "6\n",
      "8\n",
      "10\n"
     ]
    }
   ],
   "source": [
    "for num in range(0,11):\n",
    "    if num %2 == 0:\n",
    "        print(num)\n",
    "        "
   ]
  },
  {
   "cell_type": "code",
   "execution_count": 14,
   "id": "8b142134",
   "metadata": {},
   "outputs": [
    {
     "data": {
      "text/plain": [
       "'dIsTrIbUtIoN Is tHe kEy tO AcHiEvEmEnT'"
      ]
     },
     "execution_count": 14,
     "metadata": {},
     "output_type": "execute_result"
    }
   ],
   "source": [
    "def myfunc(string):\n",
    "    out = []\n",
    "    for i in range(len(string)):\n",
    "        if i%2==0:\n",
    "            out.append(string[i].lower())\n",
    "        else:\n",
    "            out.append(string[i].upper())\n",
    "    return ''.join(out)\n",
    "myfunc('distribution is the key to achievement')"
   ]
  },
  {
   "cell_type": "code",
   "execution_count": 17,
   "id": "48b7573a",
   "metadata": {},
   "outputs": [
    {
     "data": {
      "text/plain": [
       "[10, 36, 58, 96]"
      ]
     },
     "execution_count": 17,
     "metadata": {},
     "output_type": "execute_result"
    }
   ],
   "source": [
    "def myfunc(*args):\n",
    "    out = []\n",
    "    for i in args:\n",
    "        if i%2==0:\n",
    "            out.append(i)\n",
    "    return out\n",
    "myfunc(10,45,25,36,58,95,96)"
   ]
  },
  {
   "cell_type": "code",
   "execution_count": 20,
   "id": "6d3ea0a1",
   "metadata": {},
   "outputs": [
    {
     "data": {
      "text/plain": [
       "'mAsTeRpIeCe'"
      ]
     },
     "execution_count": 20,
     "metadata": {},
     "output_type": "execute_result"
    }
   ],
   "source": [
    "def myfunc(x):\n",
    "    out = []\n",
    "    for word in range(len(x)):\n",
    "        if word%2==0:\n",
    "            out.append(x[word].lower())\n",
    "        else:\n",
    "            out.append(x[word].upper())\n",
    "    return ''.join(out)\n",
    "myfunc('Masterpiece')"
   ]
  },
  {
   "cell_type": "code",
   "execution_count": null,
   "id": "4fb945be",
   "metadata": {},
   "outputs": [],
   "source": []
  }
 ],
 "metadata": {
  "kernelspec": {
   "display_name": "Python 3 (ipykernel)",
   "language": "python",
   "name": "python3"
  },
  "language_info": {
   "codemirror_mode": {
    "name": "ipython",
    "version": 3
   },
   "file_extension": ".py",
   "mimetype": "text/x-python",
   "name": "python",
   "nbconvert_exporter": "python",
   "pygments_lexer": "ipython3",
   "version": "3.9.7"
  }
 },
 "nbformat": 4,
 "nbformat_minor": 5
}
